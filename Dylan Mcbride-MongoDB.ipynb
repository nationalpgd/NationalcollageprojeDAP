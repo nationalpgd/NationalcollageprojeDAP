{
 "cells": [
  {
   "cell_type": "code",
   "execution_count": 1,
   "id": "4adfb972",
   "metadata": {},
   "outputs": [],
   "source": [
    "import pymongo\n",
    "from pymongo import MongoClient\n",
    "import pandas as pd\n",
    "import json"
   ]
  },
  {
   "cell_type": "code",
   "execution_count": 2,
   "id": "07d6f548",
   "metadata": {},
   "outputs": [],
   "source": [
    "client = MongoClient(\"mongodb://localhost:27017\")"
   ]
  },
  {
   "cell_type": "code",
   "execution_count": 3,
   "id": "86c8d1b2",
   "metadata": {},
   "outputs": [],
   "source": [
    "with open('C:/Users/dylan/OneDrive/Desktop/DAP/possible datasets/Warehouse_and_Retail_Sales.json') as f:\n",
    "    data = json.load(f)"
   ]
  },
  {
   "cell_type": "code",
   "execution_count": 19,
   "id": "f65f100f",
   "metadata": {},
   "outputs": [],
   "source": [
    "#first 10000 entries\n",
    "entries = []\n",
    "\n",
    "for i in range(0, 10000):\n",
    "    entry = data['data'][i]\n",
    "    entries.append(entry)\n",
    "    \n",
    "new_dict = {'data_entries' : entries}"
   ]
  },
  {
   "cell_type": "code",
   "execution_count": 5,
   "id": "8407e2eb",
   "metadata": {},
   "outputs": [
    {
     "data": {
      "text/plain": [
       "<pymongo.results.InsertOneResult at 0x223fd537ac0>"
      ]
     },
     "execution_count": 5,
     "metadata": {},
     "output_type": "execute_result"
    }
   ],
   "source": [
    "db = client['Project']\n",
    "db.ProjectData.insert_one(new_dict)"
   ]
  },
  {
   "cell_type": "code",
   "execution_count": null,
   "id": "75e31911",
   "metadata": {},
   "outputs": [],
   "source": []
  }
 ],
 "metadata": {
  "kernelspec": {
   "display_name": "Python 3",
   "language": "python",
   "name": "python3"
  },
  "language_info": {
   "codemirror_mode": {
    "name": "ipython",
    "version": 3
   },
   "file_extension": ".py",
   "mimetype": "text/x-python",
   "name": "python",
   "nbconvert_exporter": "python",
   "pygments_lexer": "ipython3",
   "version": "3.8.8"
  }
 },
 "nbformat": 4,
 "nbformat_minor": 5
}
