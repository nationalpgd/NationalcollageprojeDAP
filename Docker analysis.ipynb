{
 "cells": [
  {
   "cell_type": "markdown",
   "id": "7262cfc9",
   "metadata": {},
   "source": [
    "# Docker Set-up"
   ]
  },
  {
   "cell_type": "code",
   "execution_count": 4,
   "id": "f8e01363",
   "metadata": {},
   "outputs": [],
   "source": [
    "import psycopg2\n",
    "import matplotlib.pyplot as plt\n",
    "%matplotlib inline"
   ]
  },
  {
   "cell_type": "markdown",
   "id": "9d5b573f",
   "metadata": {},
   "source": [
    "Create Database \"project_final\""
   ]
  },
  {
   "cell_type": "code",
   "execution_count": 5,
   "id": "50f068cb",
   "metadata": {},
   "outputs": [],
   "source": [
    "try:\n",
    "    dbConnection = psycopg2.connect(\n",
    "        user = \"dap\",\n",
    "        password = \"dap\",\n",
    "        host = \"127.0.0.1\",\n",
    "        port = \"5432\",\n",
    "        database = \"postgres\")\n",
    "    dbConnection.set_isolation_level(0) # AUTOCOMMIT\n",
    "    dbCursor = dbConnection.cursor()\n",
    "    dbCursor.execute('CREATE DATABASE project_final;')\n",
    "    dbCursor.close()\n",
    "except (Exception , psycopg2.Error) as dbError :\n",
    "    print (\"Error while connecting to PostgreSQL\", dbError)\n",
    "finally:\n",
    "    if dbConnection in locals(): \n",
    "        dbConnection.close()"
   ]
  },
  {
   "cell_type": "markdown",
   "id": "dcb76a42",
   "metadata": {},
   "source": [
    "Create Table"
   ]
  },
  {
   "cell_type": "code",
   "execution_count": 6,
   "id": "c7e6c1a6",
   "metadata": {},
   "outputs": [],
   "source": [
    "table_create_string = \"\"\"\n",
    "CREATE TABLE project_data(\n",
    "  Year integer,\n",
    "  Month integer,\n",
    "  Supplier varchar(255),\n",
    "  Item_Code integer,\n",
    "  Item_Description varchar(255),\n",
    "  Item_Type varchar(255),\n",
    "  Retail_Sales numeric(8,1),\n",
    "  Retail_Transfers integer,\n",
    "  Warehouse_Sales numeric(10,1)\n",
    ");\n",
    "\"\"\"\n",
    "\n",
    "try:\n",
    "    dbConnection = psycopg2.connect(\n",
    "        user = \"dap\",\n",
    "        password = \"dap\",\n",
    "        host = \"127.0.0.1\",\n",
    "        port = \"5432\",\n",
    "        database = \"project_final\"\n",
    "    )\n",
    "    dbConnection.set_isolation_level(0) # AUTOCOMMIT\n",
    "    dbCursor = dbConnection.cursor()\n",
    "    dbCursor.execute(table_create_string)\n",
    "    dbCursor.close()\n",
    "except (Exception , psycopg2.Error) as dbError :\n",
    "    print (\"Error while connecting to PostgreSQL\", dbError)\n",
    "finally:\n",
    "    if dbConnection in locals(): \n",
    "        dbConnection.close()"
   ]
  },
  {
   "cell_type": "markdown",
   "id": "0c26686c",
   "metadata": {},
   "source": [
    "Import warehouse_sales.csv to database"
   ]
  },
  {
   "cell_type": "code",
   "execution_count": 7,
   "id": "96f18df4",
   "metadata": {},
   "outputs": [],
   "source": [
    "import csv\n",
    "\n",
    "try:\n",
    "    dbConnection = psycopg2.connect(\n",
    "        user = \"dap\",\n",
    "        password = \"dap\",\n",
    "        host = \"127.0.0.1\",\n",
    "        port = \"5432\",\n",
    "        database = \"project_final\"\n",
    "    )\n",
    "    dbConnection.set_isolation_level(0) # AUTOCOMMIT\n",
    "    dbCursor = dbConnection.cursor()\n",
    "    insertString = \"INSERT INTO project_data VALUES ({},\"+\"{},\"+\"'{}',\"+\"{},\"+\"'{}',\"+\"'{}',\"+\"{},\"+\"{})\"\n",
    "    with open('C:/Users/dylan/OneDrive/Desktop/DAP/warehouse_sales.csv', 'r') as f:\n",
    "        reader = csv.reader(f)\n",
    "        next(reader) # skip the header\n",
    "        for row in reader:\n",
    "            dbCursor.execute(insertString.format(*row))\n",
    "    dbConnection.commit()\n",
    "    dbCursor.close()\n",
    "except (Exception , psycopg2.Error) as dbError :\n",
    "    print (\"Error:\", dbError)\n",
    "finally:\n",
    "    if dbConnection in locals(): \n",
    "        dbConnection.close()"
   ]
  },
  {
   "cell_type": "markdown",
   "id": "37c757c2",
   "metadata": {},
   "source": [
    "# Analysis"
   ]
  },
  {
   "cell_type": "markdown",
   "id": "c4f0a2e7",
   "metadata": {},
   "source": [
    "Total Sales and Transfers for Warehouse"
   ]
  },
  {
   "cell_type": "code",
   "execution_count": 30,
   "id": "db84b8d9",
   "metadata": {},
   "outputs": [],
   "source": [
    "import pandas as pd\n",
    "import pandas.io.sql as sqlio\n",
    "import psycopg2"
   ]
  },
  {
   "cell_type": "code",
   "execution_count": 31,
   "id": "1fef7304",
   "metadata": {},
   "outputs": [],
   "source": [
    "sql = \"\"\"\n",
    "SELECT\n",
    "    SUM(Retail_Sales) AS retail_sales,\n",
    "    SUM(Retail_Transfers) AS retail_transfers\n",
    "FROM\n",
    "    project_data\n",
    "\"\"\"\n",
    "\n",
    "try:\n",
    "    dbConnection = psycopg2.connect(\n",
    "        user = \"dap\",\n",
    "        password = \"dap\",\n",
    "        host = \"127.0.0.1\",\n",
    "        port = \"5432\",\n",
    "        database = \"project_final\"\n",
    "    )\n",
    "    project_dataframe = sqlio.read_sql_query(sql, dbConnection)\n",
    "except (Exception , psycopg2.Error) as dbError :\n",
    "    print (\"Error:\", dbError)\n",
    "finally:\n",
    "    if dbConnection in locals(): \n",
    "        dbConnection.close()"
   ]
  },
  {
   "cell_type": "code",
   "execution_count": 32,
   "id": "96ebff5e",
   "metadata": {},
   "outputs": [
    {
     "data": {
      "text/html": [
       "<div>\n",
       "<style scoped>\n",
       "    .dataframe tbody tr th:only-of-type {\n",
       "        vertical-align: middle;\n",
       "    }\n",
       "\n",
       "    .dataframe tbody tr th {\n",
       "        vertical-align: top;\n",
       "    }\n",
       "\n",
       "    .dataframe thead th {\n",
       "        text-align: right;\n",
       "    }\n",
       "</style>\n",
       "<table border=\"1\" class=\"dataframe\">\n",
       "  <thead>\n",
       "    <tr style=\"text-align: right;\">\n",
       "      <th></th>\n",
       "      <th>retail_sales</th>\n",
       "      <th>retail_transfers</th>\n",
       "    </tr>\n",
       "  </thead>\n",
       "  <tbody>\n",
       "    <tr>\n",
       "      <th>0</th>\n",
       "      <td>50204.4</td>\n",
       "      <td>51759</td>\n",
       "    </tr>\n",
       "  </tbody>\n",
       "</table>\n",
       "</div>"
      ],
      "text/plain": [
       "   retail_sales  retail_transfers\n",
       "0       50204.4             51759"
      ]
     },
     "execution_count": 32,
     "metadata": {},
     "output_type": "execute_result"
    }
   ],
   "source": [
    "project_dataframe"
   ]
  },
  {
   "cell_type": "markdown",
   "id": "9dc7466a",
   "metadata": {},
   "source": [
    "Total Sales and Transfers by Product"
   ]
  },
  {
   "cell_type": "code",
   "execution_count": 10,
   "id": "94d48e61",
   "metadata": {},
   "outputs": [],
   "source": [
    "sql = \"\"\"\n",
    "SELECT\n",
    "    Item_Type as item_type,\n",
    "    SUM(Retail_Sales) AS retail_sales,\n",
    "    SUM(Retail_Transfers) AS retail_transfers\n",
    "FROM\n",
    "    project_data\n",
    "GROUP BY\n",
    "    item_type\n",
    "\"\"\"\n",
    "\n",
    "try:\n",
    "    dbConnection = psycopg2.connect(\n",
    "        user = \"dap\",\n",
    "        password = \"dap\",\n",
    "        host = \"127.0.0.1\",\n",
    "        port = \"5432\",\n",
    "        database = \"project_final\"\n",
    "    )\n",
    "    project_dataframe = sqlio.read_sql_query(sql, dbConnection)\n",
    "except (Exception , psycopg2.Error) as dbError :\n",
    "    print (\"Error:\", dbError)\n",
    "finally:\n",
    "    if dbConnection in locals(): \n",
    "        dbConnection.close()"
   ]
  },
  {
   "cell_type": "code",
   "execution_count": 11,
   "id": "eec216eb",
   "metadata": {},
   "outputs": [
    {
     "data": {
      "text/html": [
       "<div>\n",
       "<style scoped>\n",
       "    .dataframe tbody tr th:only-of-type {\n",
       "        vertical-align: middle;\n",
       "    }\n",
       "\n",
       "    .dataframe tbody tr th {\n",
       "        vertical-align: top;\n",
       "    }\n",
       "\n",
       "    .dataframe thead th {\n",
       "        text-align: right;\n",
       "    }\n",
       "</style>\n",
       "<table border=\"1\" class=\"dataframe\">\n",
       "  <thead>\n",
       "    <tr style=\"text-align: right;\">\n",
       "      <th></th>\n",
       "      <th>item_type</th>\n",
       "      <th>retail_sales</th>\n",
       "      <th>retail_transfers</th>\n",
       "    </tr>\n",
       "  </thead>\n",
       "  <tbody>\n",
       "    <tr>\n",
       "      <th>0</th>\n",
       "      <td>KEGS</td>\n",
       "      <td>0.0</td>\n",
       "      <td>0</td>\n",
       "    </tr>\n",
       "    <tr>\n",
       "      <th>1</th>\n",
       "      <td>WINE</td>\n",
       "      <td>11336.0</td>\n",
       "      <td>11746</td>\n",
       "    </tr>\n",
       "    <tr>\n",
       "      <th>2</th>\n",
       "      <td>NON-ALCOHOL</td>\n",
       "      <td>963.5</td>\n",
       "      <td>525</td>\n",
       "    </tr>\n",
       "    <tr>\n",
       "      <th>3</th>\n",
       "      <td>DUNNAGE</td>\n",
       "      <td>0.0</td>\n",
       "      <td>0</td>\n",
       "    </tr>\n",
       "    <tr>\n",
       "      <th>4</th>\n",
       "      <td>STR_SUPPLIES</td>\n",
       "      <td>153.4</td>\n",
       "      <td>140</td>\n",
       "    </tr>\n",
       "    <tr>\n",
       "      <th>5</th>\n",
       "      <td>BEER</td>\n",
       "      <td>10972.0</td>\n",
       "      <td>12520</td>\n",
       "    </tr>\n",
       "    <tr>\n",
       "      <th>6</th>\n",
       "      <td>REF</td>\n",
       "      <td>16.0</td>\n",
       "      <td>25</td>\n",
       "    </tr>\n",
       "    <tr>\n",
       "      <th>7</th>\n",
       "      <td>LIQUOR</td>\n",
       "      <td>26763.5</td>\n",
       "      <td>26803</td>\n",
       "    </tr>\n",
       "  </tbody>\n",
       "</table>\n",
       "</div>"
      ],
      "text/plain": [
       "      item_type  retail_sales  retail_transfers\n",
       "0          KEGS           0.0                 0\n",
       "1          WINE       11336.0             11746\n",
       "2   NON-ALCOHOL         963.5               525\n",
       "3       DUNNAGE           0.0                 0\n",
       "4  STR_SUPPLIES         153.4               140\n",
       "5          BEER       10972.0             12520\n",
       "6           REF          16.0                25\n",
       "7        LIQUOR       26763.5             26803"
      ]
     },
     "execution_count": 11,
     "metadata": {},
     "output_type": "execute_result"
    }
   ],
   "source": [
    "project_dataframe"
   ]
  },
  {
   "cell_type": "code",
   "execution_count": 14,
   "id": "45c87f34",
   "metadata": {},
   "outputs": [
    {
     "data": {
      "image/png": "[encoded data removed]",
      "text/plain": [
       "<Figure size 720x576 with 1 Axes>"
      ]
     },
     "metadata": {
      "needs_background": "light"
     },
     "output_type": "display_data"
    }
   ],
   "source": [
    "plt.figure(figsize=(10,8))\n",
    "plt.bar('item_type', 'retail_sales', data=project_dataframe)\n",
    "plt.title(\"Total Retail Sales\")\n",
    "plt.savefig('C:/Users/dylan/OneDrive/Desktop/DAP/totalsales.png')"
   ]
  },
  {
   "cell_type": "code",
   "execution_count": 15,
   "id": "bea6353d",
   "metadata": {},
   "outputs": [
    {
     "data": {
      "image/png": "[encoded data removed]",
      "text/plain": [
       "<Figure size 720x576 with 1 Axes>"
      ]
     },
     "metadata": {
      "needs_background": "light"
     },
     "output_type": "display_data"
    }
   ],
   "source": [
    "plt.figure(figsize=(10,8))\n",
    "plt.bar('item_type', 'retail_transfers', data=project_dataframe)\n",
    "plt.savefig('C:/Users/dylan/OneDrive/Desktop/DAP/totaltransfers.png')"
   ]
  },
  {
   "cell_type": "markdown",
   "id": "c9854ba6",
   "metadata": {},
   "source": [
    "Average Sales and Transfers by Product"
   ]
  },
  {
   "cell_type": "code",
   "execution_count": 16,
   "id": "fc2a28ce",
   "metadata": {},
   "outputs": [],
   "source": [
    "sql = \"\"\"\n",
    "SELECT\n",
    "    Item_Type AS item_type,\n",
    "    AVG(Retail_Sales) AS avg_retail_sales,\n",
    "    AVG(Retail_Transfers) AS avg_retail_transfers\n",
    "FROM\n",
    "    project_data\n",
    "GROUP BY\n",
    "    item_type\n",
    "\"\"\"\n",
    "\n",
    "try:\n",
    "    dbConnection = psycopg2.connect(\n",
    "        user = \"dap\",\n",
    "        password = \"dap\",\n",
    "        host = \"127.0.0.1\",\n",
    "        port = \"5432\",\n",
    "        database = \"project_final\"\n",
    "    )\n",
    "    project_dataframe = sqlio.read_sql_query(sql, dbConnection)\n",
    "except (Exception , psycopg2.Error) as dbError :\n",
    "    print (\"Error:\", dbError)\n",
    "finally:\n",
    "    if dbConnection in locals(): \n",
    "        dbConnection.close()"
   ]
  },
  {
   "cell_type": "code",
   "execution_count": 17,
   "id": "e6720832",
   "metadata": {},
   "outputs": [
    {
     "data": {
      "text/html": [
       "<div>\n",
       "<style scoped>\n",
       "    .dataframe tbody tr th:only-of-type {\n",
       "        vertical-align: middle;\n",
       "    }\n",
       "\n",
       "    .dataframe tbody tr th {\n",
       "        vertical-align: top;\n",
       "    }\n",
       "\n",
       "    .dataframe thead th {\n",
       "        text-align: right;\n",
       "    }\n",
       "</style>\n",
       "<table border=\"1\" class=\"dataframe\">\n",
       "  <thead>\n",
       "    <tr style=\"text-align: right;\">\n",
       "      <th></th>\n",
       "      <th>item_type</th>\n",
       "      <th>avg_retail_sales</th>\n",
       "      <th>avg_retail_transfers</th>\n",
       "    </tr>\n",
       "  </thead>\n",
       "  <tbody>\n",
       "    <tr>\n",
       "      <th>0</th>\n",
       "      <td>KEGS</td>\n",
       "      <td>0.000000</td>\n",
       "      <td>0.000000</td>\n",
       "    </tr>\n",
       "    <tr>\n",
       "      <th>1</th>\n",
       "      <td>WINE</td>\n",
       "      <td>1.865701</td>\n",
       "      <td>1.933180</td>\n",
       "    </tr>\n",
       "    <tr>\n",
       "      <th>2</th>\n",
       "      <td>NON-ALCOHOL</td>\n",
       "      <td>18.528846</td>\n",
       "      <td>10.096154</td>\n",
       "    </tr>\n",
       "    <tr>\n",
       "      <th>3</th>\n",
       "      <td>DUNNAGE</td>\n",
       "      <td>0.000000</td>\n",
       "      <td>0.000000</td>\n",
       "    </tr>\n",
       "    <tr>\n",
       "      <th>4</th>\n",
       "      <td>STR_SUPPLIES</td>\n",
       "      <td>8.522222</td>\n",
       "      <td>7.777778</td>\n",
       "    </tr>\n",
       "    <tr>\n",
       "      <th>5</th>\n",
       "      <td>BEER</td>\n",
       "      <td>8.243426</td>\n",
       "      <td>9.406461</td>\n",
       "    </tr>\n",
       "    <tr>\n",
       "      <th>6</th>\n",
       "      <td>REF</td>\n",
       "      <td>8.000000</td>\n",
       "      <td>12.500000</td>\n",
       "    </tr>\n",
       "    <tr>\n",
       "      <th>7</th>\n",
       "      <td>LIQUOR</td>\n",
       "      <td>12.356187</td>\n",
       "      <td>12.374423</td>\n",
       "    </tr>\n",
       "  </tbody>\n",
       "</table>\n",
       "</div>"
      ],
      "text/plain": [
       "      item_type  avg_retail_sales  avg_retail_transfers\n",
       "0          KEGS          0.000000              0.000000\n",
       "1          WINE          1.865701              1.933180\n",
       "2   NON-ALCOHOL         18.528846             10.096154\n",
       "3       DUNNAGE          0.000000              0.000000\n",
       "4  STR_SUPPLIES          8.522222              7.777778\n",
       "5          BEER          8.243426              9.406461\n",
       "6           REF          8.000000             12.500000\n",
       "7        LIQUOR         12.356187             12.374423"
      ]
     },
     "execution_count": 17,
     "metadata": {},
     "output_type": "execute_result"
    }
   ],
   "source": [
    "project_dataframe"
   ]
  },
  {
   "cell_type": "code",
   "execution_count": 18,
   "id": "13869388",
   "metadata": {},
   "outputs": [
    {
     "data": {
      "image/png": "[encoded data removed]",
      "text/plain": [
       "<Figure size 720x576 with 1 Axes>"
      ]
     },
     "metadata": {
      "needs_background": "light"
     },
     "output_type": "display_data"
    }
   ],
   "source": [
    "plt.figure(figsize=(10, 8))\n",
    "plt.bar(\"item_type\",'avg_retail_sales', data=project_dataframe)\n",
    "plt.title(\"Average Retail Sales\")\n",
    "plt.savefig('C:/Users/dylan/OneDrive/Desktop/DAP/avgsales.png')"
   ]
  },
  {
   "cell_type": "code",
   "execution_count": 19,
   "id": "79bc3ce1",
   "metadata": {},
   "outputs": [
    {
     "data": {
      "image/png": "[encoded data removed]",
      "text/plain": [
       "<Figure size 720x576 with 1 Axes>"
      ]
     },
     "metadata": {
      "needs_background": "light"
     },
     "output_type": "display_data"
    }
   ],
   "source": [
    "plt.figure(figsize=(10, 8))\n",
    "plt.bar(\"item_type\",'avg_retail_transfers', data=project_dataframe)\n",
    "plt.title(\"Average Retail Transfers\")\n",
    "plt.savefig('C:/Users/dylan/OneDrive/Desktop/DAP/avgtransfers.png')"
   ]
  },
  {
   "cell_type": "markdown",
   "id": "ce5f038d",
   "metadata": {},
   "source": [
    "Most Popular Item Type"
   ]
  },
  {
   "cell_type": "code",
   "execution_count": 27,
   "id": "9d4035a8",
   "metadata": {},
   "outputs": [],
   "source": [
    "sql = \"\"\"\n",
    "SELECT\n",
    "    Item_Type as item,\n",
    "    COUNT(*) Item_Type\n",
    "FROM\n",
    "    project_data\n",
    "GROUP BY\n",
    "    item\n",
    "\"\"\"\n",
    "\n",
    "try:\n",
    "    dbConnection = psycopg2.connect(\n",
    "        user = \"dap\",\n",
    "        password = \"dap\",\n",
    "        host = \"127.0.0.1\",\n",
    "        port = \"5432\",\n",
    "        database = \"project_final\"\n",
    "    )\n",
    "    project_dataframe = sqlio.read_sql_query(sql, dbConnection)\n",
    "except (Exception , psycopg2.Error) as dbError :\n",
    "    print (\"Error:\", dbError)\n",
    "finally:\n",
    "    if dbConnection in locals(): \n",
    "        dbConnection.close()"
   ]
  },
  {
   "cell_type": "code",
   "execution_count": 28,
   "id": "d03ed6c3",
   "metadata": {},
   "outputs": [
    {
     "data": {
      "text/html": [
       "<div>\n",
       "<style scoped>\n",
       "    .dataframe tbody tr th:only-of-type {\n",
       "        vertical-align: middle;\n",
       "    }\n",
       "\n",
       "    .dataframe tbody tr th {\n",
       "        vertical-align: top;\n",
       "    }\n",
       "\n",
       "    .dataframe thead th {\n",
       "        text-align: right;\n",
       "    }\n",
       "</style>\n",
       "<table border=\"1\" class=\"dataframe\">\n",
       "  <thead>\n",
       "    <tr style=\"text-align: right;\">\n",
       "      <th></th>\n",
       "      <th>item</th>\n",
       "      <th>item_type</th>\n",
       "    </tr>\n",
       "  </thead>\n",
       "  <tbody>\n",
       "    <tr>\n",
       "      <th>0</th>\n",
       "      <td>KEGS</td>\n",
       "      <td>351</td>\n",
       "    </tr>\n",
       "    <tr>\n",
       "      <th>1</th>\n",
       "      <td>WINE</td>\n",
       "      <td>6076</td>\n",
       "    </tr>\n",
       "    <tr>\n",
       "      <th>2</th>\n",
       "      <td>NON-ALCOHOL</td>\n",
       "      <td>52</td>\n",
       "    </tr>\n",
       "    <tr>\n",
       "      <th>3</th>\n",
       "      <td>DUNNAGE</td>\n",
       "      <td>4</td>\n",
       "    </tr>\n",
       "    <tr>\n",
       "      <th>4</th>\n",
       "      <td>STR_SUPPLIES</td>\n",
       "      <td>18</td>\n",
       "    </tr>\n",
       "    <tr>\n",
       "      <th>5</th>\n",
       "      <td>BEER</td>\n",
       "      <td>1331</td>\n",
       "    </tr>\n",
       "    <tr>\n",
       "      <th>6</th>\n",
       "      <td>REF</td>\n",
       "      <td>2</td>\n",
       "    </tr>\n",
       "    <tr>\n",
       "      <th>7</th>\n",
       "      <td>LIQUOR</td>\n",
       "      <td>2166</td>\n",
       "    </tr>\n",
       "  </tbody>\n",
       "</table>\n",
       "</div>"
      ],
      "text/plain": [
       "           item  item_type\n",
       "0          KEGS        351\n",
       "1          WINE       6076\n",
       "2   NON-ALCOHOL         52\n",
       "3       DUNNAGE          4\n",
       "4  STR_SUPPLIES         18\n",
       "5          BEER       1331\n",
       "6           REF          2\n",
       "7        LIQUOR       2166"
      ]
     },
     "execution_count": 28,
     "metadata": {},
     "output_type": "execute_result"
    }
   ],
   "source": [
    "project_dataframe"
   ]
  },
  {
   "cell_type": "code",
   "execution_count": 29,
   "id": "5240b941",
   "metadata": {},
   "outputs": [
    {
     "data": {
      "image/png": "[encoded data removed]",
      "text/plain": [
       "<Figure size 720x576 with 1 Axes>"
      ]
     },
     "metadata": {
      "needs_background": "light"
     },
     "output_type": "display_data"
    }
   ],
   "source": [
    "plt.figure(figsize=(10, 8))\n",
    "plt.bar(\"item\",'item_type', data=project_dataframe)\n",
    "plt.title(\"Popularity\")\n",
    "plt.savefig('C:/Users/dylan/OneDrive/Desktop/DAP/popularity.png')"
   ]
  },
  {
   "cell_type": "code",
   "execution_count": null,
   "id": "2c90cf6b",
   "metadata": {},
   "outputs": [],
   "source": []
  }
 ],
 "metadata": {
  "kernelspec": {
   "display_name": "Python 3",
   "language": "python",
   "name": "python3"
  },
  "language_info": {
   "codemirror_mode": {
    "name": "ipython",
    "version": 3
   },
   "file_extension": ".py",
   "mimetype": "text/x-python",
   "name": "python",
   "nbconvert_exporter": "python",
   "pygments_lexer": "ipython3",
   "version": "3.8.8"
  }
 },
 "nbformat": 4,
 "nbformat_minor": 5
}
