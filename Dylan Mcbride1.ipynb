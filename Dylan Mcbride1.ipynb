{
 "cells": [
  {
   "cell_type": "code",
   "execution_count": 1,
   "id": "8eeca70a",
   "metadata": {},
   "outputs": [],
   "source": [
    "import pymongo\n",
    "from pymongo import MongoClient\n",
    "import pandas as pd\n",
    "import json\n",
    "import csv"
   ]
  },
  {
   "cell_type": "code",
   "execution_count": 2,
   "id": "820aa6dc",
   "metadata": {},
   "outputs": [],
   "source": [
    "client = MongoClient(\"mongodb://localhost:27017\")"
   ]
  },
  {
   "cell_type": "code",
   "execution_count": 3,
   "id": "45e7f2e6",
   "metadata": {},
   "outputs": [],
   "source": [
    "db = client['Project']\n",
    "collection = db['ProjectData']"
   ]
  },
  {
   "cell_type": "code",
   "execution_count": 4,
   "id": "e642dd56",
   "metadata": {},
   "outputs": [
    {
     "name": "stdout",
     "output_type": "stream",
     "text": [
      "Collection(Database(MongoClient(host=['localhost:27017'], document_class=dict, tz_aware=False, connect=True), 'Project'), 'ProjectData')\n"
     ]
    }
   ],
   "source": [
    "print(collection)"
   ]
  },
  {
   "cell_type": "code",
   "execution_count": 5,
   "id": "eefa7dee",
   "metadata": {},
   "outputs": [],
   "source": [
    "record = collection.find()"
   ]
  },
  {
   "cell_type": "code",
   "execution_count": 17,
   "id": "5a03c119",
   "metadata": {},
   "outputs": [],
   "source": [
    "data_entries = record[0]['data_entries']"
   ]
  },
  {
   "cell_type": "code",
   "execution_count": 23,
   "id": "4d85b670",
   "metadata": {},
   "outputs": [
    {
     "data": {
      "text/plain": [
       "['row-mnid.ac5t.8e6c',\n",
       " '00000000-0000-0000-2A4D-FC17C663CD70',\n",
       " 0,\n",
       " 1583413338,\n",
       " None,\n",
       " 1583413338,\n",
       " None,\n",
       " '{ }',\n",
       " '2020',\n",
       " '1',\n",
       " 'REPUBLIC NATIONAL DISTRIBUTING CO',\n",
       " '100009',\n",
       " 'BOOTLEG RED - 750ML',\n",
       " 'WINE',\n",
       " '0',\n",
       " '0',\n",
       " '2']"
      ]
     },
     "execution_count": 23,
     "metadata": {},
     "output_type": "execute_result"
    }
   ],
   "source": [
    "data_entries[0]"
   ]
  },
  {
   "cell_type": "markdown",
   "id": "e4a1bf23",
   "metadata": {},
   "source": [
    "We only need last 9 variables - convert to dataframe"
   ]
  },
  {
   "cell_type": "code",
   "execution_count": 39,
   "id": "8bcb525d",
   "metadata": {},
   "outputs": [],
   "source": [
    "year = []\n",
    "month = []\n",
    "supplier = []\n",
    "item_code = []\n",
    "item_description = []\n",
    "item_type = []\n",
    "retail_sales = []\n",
    "retail_transfers = []\n",
    "warehouse_sales = []\n",
    "\n",
    "for i in (data_entries):\n",
    "    a, b, c, d, e, f, g, h, x = i[8], i[9], i[10], i[11], i[12], i[13], i[14], i[15], i[16]\n",
    "    year.append(int(a))\n",
    "    month.append(int(b))\n",
    "    supplier.append(c)\n",
    "    item_code.append(int(d))\n",
    "    item_description.append(e)\n",
    "    item_type.append(f)\n",
    "    retail_sales.append(float(g))\n",
    "    retail_transfers.append(float(h))\n",
    "    warehouse_sales.append(float(x))"
   ]
  },
  {
   "cell_type": "code",
   "execution_count": 46,
   "id": "1bc9661c",
   "metadata": {},
   "outputs": [],
   "source": [
    "data = {'Year': year,\n",
    "'Month': month,\n",
    "'Supplier': supplier,\n",
    "'Item Code': item_code,\n",
    "'Item Description': item_description,\n",
    "'Item Type': item_type,\n",
    "'Retail Sales': retail_sales,\n",
    "'Retail Transfers': retail_transfers,\n",
    "'Warehouse Sales': warehouse_sales}\n",
    "\n",
    "df = pd.DataFrame(data,columns=['Year',  'Month',  'Supplier', 'Item Code', 'Item Description', 'Item Type',\n",
    "                               'Retail Sales', 'Retail Transfers', 'Warehouse Sales'])"
   ]
  },
  {
   "cell_type": "code",
   "execution_count": 49,
   "id": "1aa1fc30",
   "metadata": {},
   "outputs": [
    {
     "data": {
      "text/html": [
       "<div>\n",
       "<style scoped>\n",
       "    .dataframe tbody tr th:only-of-type {\n",
       "        vertical-align: middle;\n",
       "    }\n",
       "\n",
       "    .dataframe tbody tr th {\n",
       "        vertical-align: top;\n",
       "    }\n",
       "\n",
       "    .dataframe thead th {\n",
       "        text-align: right;\n",
       "    }\n",
       "</style>\n",
       "<table border=\"1\" class=\"dataframe\">\n",
       "  <thead>\n",
       "    <tr style=\"text-align: right;\">\n",
       "      <th></th>\n",
       "      <th>Year</th>\n",
       "      <th>Month</th>\n",
       "      <th>Supplier</th>\n",
       "      <th>Item Code</th>\n",
       "      <th>Item Description</th>\n",
       "      <th>Item Type</th>\n",
       "      <th>Retail Sales</th>\n",
       "      <th>Retail Transfers</th>\n",
       "      <th>Warehouse Sales</th>\n",
       "    </tr>\n",
       "  </thead>\n",
       "  <tbody>\n",
       "    <tr>\n",
       "      <th>0</th>\n",
       "      <td>2020</td>\n",
       "      <td>1</td>\n",
       "      <td>REPUBLIC NATIONAL DISTRIBUTING CO</td>\n",
       "      <td>100009</td>\n",
       "      <td>BOOTLEG RED - 750ML</td>\n",
       "      <td>WINE</td>\n",
       "      <td>0.00</td>\n",
       "      <td>0.0</td>\n",
       "      <td>2.0</td>\n",
       "    </tr>\n",
       "    <tr>\n",
       "      <th>1</th>\n",
       "      <td>2020</td>\n",
       "      <td>1</td>\n",
       "      <td>PWSWN INC</td>\n",
       "      <td>100024</td>\n",
       "      <td>MOMENT DE PLAISIR - 750ML</td>\n",
       "      <td>WINE</td>\n",
       "      <td>0.00</td>\n",
       "      <td>1.0</td>\n",
       "      <td>4.0</td>\n",
       "    </tr>\n",
       "    <tr>\n",
       "      <th>2</th>\n",
       "      <td>2020</td>\n",
       "      <td>1</td>\n",
       "      <td>RELIABLE CHURCHILL LLLP</td>\n",
       "      <td>1001</td>\n",
       "      <td>S SMITH ORGANIC PEAR CIDER - 18.7OZ</td>\n",
       "      <td>BEER</td>\n",
       "      <td>0.00</td>\n",
       "      <td>0.0</td>\n",
       "      <td>1.0</td>\n",
       "    </tr>\n",
       "    <tr>\n",
       "      <th>3</th>\n",
       "      <td>2020</td>\n",
       "      <td>1</td>\n",
       "      <td>LANTERNA DISTRIBUTORS INC</td>\n",
       "      <td>100145</td>\n",
       "      <td>SCHLINK HAUS KABINETT - 750ML</td>\n",
       "      <td>WINE</td>\n",
       "      <td>0.00</td>\n",
       "      <td>0.0</td>\n",
       "      <td>1.0</td>\n",
       "    </tr>\n",
       "    <tr>\n",
       "      <th>4</th>\n",
       "      <td>2020</td>\n",
       "      <td>1</td>\n",
       "      <td>DIONYSOS IMPORTS INC</td>\n",
       "      <td>100293</td>\n",
       "      <td>SANTORINI GAVALA WHITE - 750ML</td>\n",
       "      <td>WINE</td>\n",
       "      <td>0.82</td>\n",
       "      <td>0.0</td>\n",
       "      <td>0.0</td>\n",
       "    </tr>\n",
       "  </tbody>\n",
       "</table>\n",
       "</div>"
      ],
      "text/plain": [
       "   Year  Month                           Supplier  Item Code  \\\n",
       "0  2020      1  REPUBLIC NATIONAL DISTRIBUTING CO     100009   \n",
       "1  2020      1                          PWSWN INC     100024   \n",
       "2  2020      1            RELIABLE CHURCHILL LLLP       1001   \n",
       "3  2020      1          LANTERNA DISTRIBUTORS INC     100145   \n",
       "4  2020      1               DIONYSOS IMPORTS INC     100293   \n",
       "\n",
       "                      Item Description Item Type  Retail Sales  \\\n",
       "0                  BOOTLEG RED - 750ML      WINE          0.00   \n",
       "1            MOMENT DE PLAISIR - 750ML      WINE          0.00   \n",
       "2  S SMITH ORGANIC PEAR CIDER - 18.7OZ      BEER          0.00   \n",
       "3        SCHLINK HAUS KABINETT - 750ML      WINE          0.00   \n",
       "4       SANTORINI GAVALA WHITE - 750ML      WINE          0.82   \n",
       "\n",
       "   Retail Transfers  Warehouse Sales  \n",
       "0               0.0              2.0  \n",
       "1               1.0              4.0  \n",
       "2               0.0              1.0  \n",
       "3               0.0              1.0  \n",
       "4               0.0              0.0  "
      ]
     },
     "execution_count": 49,
     "metadata": {},
     "output_type": "execute_result"
    }
   ],
   "source": [
    "df.head()"
   ]
  },
  {
   "cell_type": "code",
   "execution_count": 51,
   "id": "b81787df",
   "metadata": {},
   "outputs": [],
   "source": [
    "df.to_csv('C:/Users/dylan/OneDrive/Desktop/DAP/warehouse_sales.csv', index=False)"
   ]
  },
  {
   "cell_type": "code",
   "execution_count": null,
   "id": "7799eee6",
   "metadata": {},
   "outputs": [],
   "source": []
  }
 ],
 "metadata": {
  "kernelspec": {
   "display_name": "Python 3",
   "language": "python",
   "name": "python3"
  },
  "language_info": {
   "codemirror_mode": {
    "name": "ipython",
    "version": 3
   },
   "file_extension": ".py",
   "mimetype": "text/x-python",
   "name": "python",
   "nbconvert_exporter": "python",
   "pygments_lexer": "ipython3",
   "version": "3.8.8"
  }
 },
 "nbformat": 4,
 "nbformat_minor": 5
}
